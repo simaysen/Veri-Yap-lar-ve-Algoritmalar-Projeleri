{
  "nbformat": 4,
  "nbformat_minor": 0,
  "metadata": {
    "colab": {
      "provenance": [],
      "authorship_tag": "ABX9TyOYADyrtNkrXnJbU/BEVKa4"
    },
    "kernelspec": {
      "name": "python3",
      "display_name": "Python 3"
    },
    "language_info": {
      "name": "python"
    }
  },
  "cells": [
    {
      "cell_type": "code",
      "execution_count": null,
      "metadata": {
        "id": "AY-HJ-gaia-z"
      },
      "outputs": [],
      "source": [
        "# Project 3: Binary Search Tree #\n",
        "# Given array:[7,5,1,8,3,6,0,9,4,2]\n",
        "# Binary Search Tree is built by inserting elements one by one while maintaining the properties of binary search trees\n",
        "# which are: smaller values go to the left\n",
        "# and larger values go to the right\n",
        "\n",
        "#Step 1:establishing the root element of given array, which is 7, the first element of the array\n",
        "#values that are larger than 7 go to the right of the tree/7\n",
        "#values that are smaller than 7 go to the left of the tree/7\n",
        "\n",
        "#Step 2: inserting remaining elements\n",
        "#                      7\n",
        "#                  5        8\n",
        "#               1     6         9\n",
        "#           0      3\n",
        "#                2     4\n",
        "\n",
        "#root is determined to be 7; from 7, 5 goes to the left of 7, 1 goes to the left of 5;\n",
        "#8 goes to the right of 7; 3 goes to the right of 1; 6 goes to the right of 5;\n",
        "#0 goes to the left of 1; 9 goes to the right of 8; 4 goes to the right of 3;\n",
        "#and lastly 2 goes to the left of 3"
      ]
    }
  ]
}