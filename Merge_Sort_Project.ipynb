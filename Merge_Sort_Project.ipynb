{
  "nbformat": 4,
  "nbformat_minor": 0,
  "metadata": {
    "colab": {
      "provenance": [],
      "authorship_tag": "ABX9TyNaOwKsTrUSjytQbYazzj5k"
    },
    "kernelspec": {
      "name": "python3",
      "display_name": "Python 3"
    },
    "language_info": {
      "name": "python"
    }
  },
  "cells": [
    {
      "cell_type": "code",
      "execution_count": null,
      "metadata": {
        "id": "7NXn_4HKiNtO"
      },
      "outputs": [],
      "source": [
        "# Project 2:  Merge Sort Steps #\n",
        "# Given array: [16,21,11,8,12,22]\n",
        "# Merge Sort follows the divide-and-conquer approach,\n",
        "# breaking the array into smaller parts before merging them in order.\n",
        "\n",
        "#Step 1:[16,21][11] and [8,12][22]\n",
        "#we first divided the array into subarrays and we further divided those until they have only one element\n",
        "#[16] [21] [11]  [8] [12] [22]\n",
        "\n",
        "#Step 2: now we are going to merge them together, but we first sort them\n",
        "#[16,21] [11] [8,12] [22] =>[11,16,21][8,12,22]\n",
        "\n",
        "#Final Merge:[11,16,21][8,12,22] => [8,11,12,16,21,22]\n",
        "\n",
        "#Big-O Notation: Merge sort has a guaranteed O(n log n)\n",
        "#time complexity in best, worst and average cases, making it efficient for large data sets"
      ]
    }
  ]
}