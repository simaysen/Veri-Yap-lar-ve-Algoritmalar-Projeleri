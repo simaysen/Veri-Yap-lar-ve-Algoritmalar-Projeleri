{
  "nbformat": 4,
  "nbformat_minor": 0,
  "metadata": {
    "colab": {
      "provenance": [],
      "authorship_tag": "ABX9TyN16iITtjG5JD7YZQ8RyO9A"
    },
    "kernelspec": {
      "name": "python3",
      "display_name": "Python 3"
    },
    "language_info": {
      "name": "python"
    }
  },
  "cells": [
    {
      "cell_type": "code",
      "execution_count": null,
      "metadata": {
        "id": "GR1616D5UoDm"
      },
      "outputs": [],
      "source": [
        "# Project 1: Insertion Sort Steps #\n",
        "# Given array:[22,27,16,2,18,6]\n",
        "# Insertion sort works by taking each element and placing it in its correct position\n",
        "# within the sorted section of the array\n",
        "\n",
        "\n",
        "#Step 1: initial state of the array:[22,27,16,2,18,6]\n",
        "\n",
        "#Step 2: comparing the second element of the array with 22, which is the first member of the sorted array so far\n",
        "#[22,27,16,2,18,6] =>[22,27,16,2,18,6]\n",
        "\n",
        "#Step 3: comparing the third element of the array with 22 and 27, which are the other two elements of the sorted array so far\n",
        "#[22,27,16,2,18,6] =>[22,27,16,2,18,6] => [16,22,27,2,18,6]\n",
        "\n",
        "#Step 4: comparing the fourth element of the array with 16, 22, 27; and placing 2 in its correct place\n",
        "#[22,27,16,2,18,6] =>[22,27,16,2,18,6] => [16,22,27,2,18,6] => [2,16,22,27,18,6]\n",
        "\n",
        "#Step 5: comparing the fifth element of the array with 2, 16, 22, 27; and placing 18 in its correct place\n",
        "#[22,27,16,2,18,6] =>[22,27,16,2,18,6] => [16,22,27,2,18,6] => [2,16,22,27,18,6] => [2,16,18,22,27,6]\n",
        "\n",
        "#Step 5: comparing the sixth element of the array with 2, 16, 18, 22, 27; and placing 6 in its correct place\n",
        "#[22,27,16,2,18,6] =>[22,27,16,2,18,6] => [16,22,27,2,18,6] => [2,16,22,27,18,6] => [2,16,18,22,27,6] => [2,6,16,18,22,27] (Final Sorted Array)\n",
        "\n",
        "#Final Result(sorted array) = [2,6,16,18,22,27]\n",
        "\n",
        "#Big-O Notation: O(n^2) is the worst case scenario for insertion sort; and the best case scenario is O(n).\n",
        "#Classification of the number 18: 18 falls under the average case scenario since 18 is in the middle.\n",
        "#sorted array = [2,6,16,18,22,27]\n",
        "\n",
        "\n",
        "\n",
        "#Selection Sort Example: (Array:[7,3,5,8,2,9,4,15,6] )\n",
        "#First Four Steps\n",
        "\n",
        "#Step 1: smallest element, 2, is placed in the begining of the array\n",
        "#[7,3,5,8,2,9,4,15,6]=>[2,/7,3,5,8,9,4,15,6]\n",
        "\n",
        "#Step 2: smallest element of the unsorted array, 3, that is left after the first step is placed in its correct place\n",
        "#[7,3,5,8,2,9,4,15,6]=>[2,/7,3,5,8,9,4,15,6]=>[2,3,/7,5,8,9,4,15,6]\n",
        "\n",
        "#Step 3: smallest element of the unsorted array, 3, that is left after the first step is placed in its correct place\n",
        "#[7,3,5,8,2,9,4,15,6]=>[2,/7,3,5,8,9,4,15,6]=>[2,3,/7,5,8,9,4,15,6]=>[2,3,4,/7,5,8,9,15,6]\n",
        "\n",
        "#Step 4: smallest element of the unsorted array, 5, that is left after the first step is placed in its correct place\n",
        "#[7,3,5,8,2,9,4,15,6]=>[2,/7,3,5,8,9,4,15,6]=>[2,3,/7,5,8,9,4,15,6]=>[2,3,4,/7,5,8,9,15,6]=>[2,3,4,5,/7,8,9,15,6]\n",
        "\n",
        "#Final Result(sorted array) = [2,3,4,5,6,7,8,9,15]\n",
        "#Selection sort also has O(n^2) time complexity but performs fewer swaps compared to insertion sort."
      ]
    }
  ]
}